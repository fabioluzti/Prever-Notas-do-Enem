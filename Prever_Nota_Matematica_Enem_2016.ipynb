{
 "cells": [
  {
   "cell_type": "markdown",
   "metadata": {},
   "source": [
    "# Prevendo Nota de Matemática do Enem 2016"
   ]
  },
  {
   "cell_type": "markdown",
   "metadata": {},
   "source": [
    "#### O objetivo deste desafio é prever a nota da disciplina de matemática dos participantes do enem 2016. Foram utilizadas técnicas de transformação nos dados adquiridos e após finalizar a limpeza foram avaliados algoritmos de regressão para saber quais poderiam ser utilizados para concluir a tarefa.\n",
    "\n",
    "#### Este desafio se encontra no programa AceleraDev DataScience da empresa Codenation e foi disponibilizado a todos os participantes."
   ]
  },
  {
   "cell_type": "code",
   "execution_count": 38,
   "metadata": {},
   "outputs": [],
   "source": [
    "import pandas as pd\n",
    "import matplotlib.pyplot as plt\n",
    "import seaborn as sns\n",
    "from sklearn.model_selection import RandomizedSearchCV, KFold, cross_val_score\n",
    "from sklearn.preprocessing import StandardScaler, MinMaxScaler\n",
    "from sklearn.pipeline import Pipeline\n",
    "from sklearn.linear_model import LinearRegression\n",
    "from sklearn.tree import DecisionTreeRegressor, DecisionTreeRegressor\n",
    "from sklearn.neighbors import KNeighborsRegressor\n",
    "from sklearn.ensemble import GradientBoostingRegressor, RandomForestRegressor\n",
    "import numpy as np\n",
    "import sklearn.metrics as metrics"
   ]
  },
  {
   "cell_type": "markdown",
   "metadata": {},
   "source": [
    "## Identificação dos dados"
   ]
  },
  {
   "cell_type": "code",
   "execution_count": 39,
   "metadata": {},
   "outputs": [],
   "source": [
    "# Importando os dados de treino e teste\n",
    "df_train = pd.read_csv('train.csv', sep=\",\", encoding=\"utf-8\", header=0)\n",
    "df_test = pd.read_csv('test.csv', sep=\",\", encoding=\"utf-8\", header=0)"
   ]
  },
  {
   "cell_type": "code",
   "execution_count": 40,
   "metadata": {},
   "outputs": [
    {
     "data": {
      "text/html": [
       "<div>\n",
       "<style scoped>\n",
       "    .dataframe tbody tr th:only-of-type {\n",
       "        vertical-align: middle;\n",
       "    }\n",
       "\n",
       "    .dataframe tbody tr th {\n",
       "        vertical-align: top;\n",
       "    }\n",
       "\n",
       "    .dataframe thead th {\n",
       "        text-align: right;\n",
       "    }\n",
       "</style>\n",
       "<table border=\"1\" class=\"dataframe\">\n",
       "  <thead>\n",
       "    <tr style=\"text-align: right;\">\n",
       "      <th></th>\n",
       "      <th>Unnamed: 0</th>\n",
       "      <th>NU_INSCRICAO</th>\n",
       "      <th>NU_ANO</th>\n",
       "      <th>CO_MUNICIPIO_RESIDENCIA</th>\n",
       "      <th>NO_MUNICIPIO_RESIDENCIA</th>\n",
       "      <th>CO_UF_RESIDENCIA</th>\n",
       "      <th>SG_UF_RESIDENCIA</th>\n",
       "      <th>NU_IDADE</th>\n",
       "      <th>TP_SEXO</th>\n",
       "      <th>TP_ESTADO_CIVIL</th>\n",
       "      <th>...</th>\n",
       "      <th>Q041</th>\n",
       "      <th>Q042</th>\n",
       "      <th>Q043</th>\n",
       "      <th>Q044</th>\n",
       "      <th>Q045</th>\n",
       "      <th>Q046</th>\n",
       "      <th>Q047</th>\n",
       "      <th>Q048</th>\n",
       "      <th>Q049</th>\n",
       "      <th>Q050</th>\n",
       "    </tr>\n",
       "  </thead>\n",
       "  <tbody>\n",
       "    <tr>\n",
       "      <th>0</th>\n",
       "      <td>1</td>\n",
       "      <td>ed50e8aaa58e7a806c337585efee9ca41f1eb1ad</td>\n",
       "      <td>2016</td>\n",
       "      <td>4314902</td>\n",
       "      <td>Porto Alegre</td>\n",
       "      <td>43</td>\n",
       "      <td>RS</td>\n",
       "      <td>24</td>\n",
       "      <td>M</td>\n",
       "      <td>0.0</td>\n",
       "      <td>...</td>\n",
       "      <td>5.0</td>\n",
       "      <td>A</td>\n",
       "      <td>A</td>\n",
       "      <td>A</td>\n",
       "      <td>A</td>\n",
       "      <td>A</td>\n",
       "      <td>A</td>\n",
       "      <td>A</td>\n",
       "      <td>B</td>\n",
       "      <td>D</td>\n",
       "    </tr>\n",
       "    <tr>\n",
       "      <th>1</th>\n",
       "      <td>2</td>\n",
       "      <td>2c3acac4b33ec2b195d77e7c04a2d75727fad723</td>\n",
       "      <td>2016</td>\n",
       "      <td>2304707</td>\n",
       "      <td>Granja</td>\n",
       "      <td>23</td>\n",
       "      <td>CE</td>\n",
       "      <td>17</td>\n",
       "      <td>F</td>\n",
       "      <td>0.0</td>\n",
       "      <td>...</td>\n",
       "      <td>NaN</td>\n",
       "      <td>A</td>\n",
       "      <td>A</td>\n",
       "      <td>C</td>\n",
       "      <td>A</td>\n",
       "      <td>B</td>\n",
       "      <td>A</td>\n",
       "      <td>A</td>\n",
       "      <td>C</td>\n",
       "      <td>A</td>\n",
       "    </tr>\n",
       "    <tr>\n",
       "      <th>2</th>\n",
       "      <td>3</td>\n",
       "      <td>f4545f8ccb9ff5c8aad7d32951b3f251a26e6568</td>\n",
       "      <td>2016</td>\n",
       "      <td>2304400</td>\n",
       "      <td>Fortaleza</td>\n",
       "      <td>23</td>\n",
       "      <td>CE</td>\n",
       "      <td>21</td>\n",
       "      <td>F</td>\n",
       "      <td>0.0</td>\n",
       "      <td>...</td>\n",
       "      <td>NaN</td>\n",
       "      <td>A</td>\n",
       "      <td>A</td>\n",
       "      <td>A</td>\n",
       "      <td>A</td>\n",
       "      <td>C</td>\n",
       "      <td>A</td>\n",
       "      <td>A</td>\n",
       "      <td>B</td>\n",
       "      <td>A</td>\n",
       "    </tr>\n",
       "    <tr>\n",
       "      <th>3</th>\n",
       "      <td>4</td>\n",
       "      <td>3d6ec248fef899c414e77f82d5c6d2bffbeaf7fe</td>\n",
       "      <td>2016</td>\n",
       "      <td>3304557</td>\n",
       "      <td>Rio de Janeiro</td>\n",
       "      <td>33</td>\n",
       "      <td>RJ</td>\n",
       "      <td>25</td>\n",
       "      <td>F</td>\n",
       "      <td>0.0</td>\n",
       "      <td>...</td>\n",
       "      <td>5.0</td>\n",
       "      <td>C</td>\n",
       "      <td>A</td>\n",
       "      <td>A</td>\n",
       "      <td>A</td>\n",
       "      <td>A</td>\n",
       "      <td>D</td>\n",
       "      <td>A</td>\n",
       "      <td>A</td>\n",
       "      <td>A</td>\n",
       "    </tr>\n",
       "    <tr>\n",
       "      <th>4</th>\n",
       "      <td>5</td>\n",
       "      <td>bf896ac8d3ecadd6dba1dfbf50110afcbf5d3268</td>\n",
       "      <td>2016</td>\n",
       "      <td>1302603</td>\n",
       "      <td>Manaus</td>\n",
       "      <td>13</td>\n",
       "      <td>AM</td>\n",
       "      <td>28</td>\n",
       "      <td>M</td>\n",
       "      <td>0.0</td>\n",
       "      <td>...</td>\n",
       "      <td>NaN</td>\n",
       "      <td>A</td>\n",
       "      <td>A</td>\n",
       "      <td>A</td>\n",
       "      <td>A</td>\n",
       "      <td>A</td>\n",
       "      <td>A</td>\n",
       "      <td>A</td>\n",
       "      <td>A</td>\n",
       "      <td>A</td>\n",
       "    </tr>\n",
       "  </tbody>\n",
       "</table>\n",
       "<p>5 rows × 167 columns</p>\n",
       "</div>"
      ],
      "text/plain": [
       "   Unnamed: 0                              NU_INSCRICAO  NU_ANO  \\\n",
       "0           1  ed50e8aaa58e7a806c337585efee9ca41f1eb1ad    2016   \n",
       "1           2  2c3acac4b33ec2b195d77e7c04a2d75727fad723    2016   \n",
       "2           3  f4545f8ccb9ff5c8aad7d32951b3f251a26e6568    2016   \n",
       "3           4  3d6ec248fef899c414e77f82d5c6d2bffbeaf7fe    2016   \n",
       "4           5  bf896ac8d3ecadd6dba1dfbf50110afcbf5d3268    2016   \n",
       "\n",
       "   CO_MUNICIPIO_RESIDENCIA NO_MUNICIPIO_RESIDENCIA  CO_UF_RESIDENCIA  \\\n",
       "0                  4314902            Porto Alegre                43   \n",
       "1                  2304707                  Granja                23   \n",
       "2                  2304400               Fortaleza                23   \n",
       "3                  3304557          Rio de Janeiro                33   \n",
       "4                  1302603                  Manaus                13   \n",
       "\n",
       "  SG_UF_RESIDENCIA  NU_IDADE TP_SEXO  TP_ESTADO_CIVIL  ...  Q041  Q042  Q043  \\\n",
       "0               RS        24       M              0.0  ...   5.0     A     A   \n",
       "1               CE        17       F              0.0  ...   NaN     A     A   \n",
       "2               CE        21       F              0.0  ...   NaN     A     A   \n",
       "3               RJ        25       F              0.0  ...   5.0     C     A   \n",
       "4               AM        28       M              0.0  ...   NaN     A     A   \n",
       "\n",
       "  Q044  Q045 Q046  Q047  Q048  Q049  Q050  \n",
       "0    A     A    A     A     A     B     D  \n",
       "1    C     A    B     A     A     C     A  \n",
       "2    A     A    C     A     A     B     A  \n",
       "3    A     A    A     D     A     A     A  \n",
       "4    A     A    A     A     A     A     A  \n",
       "\n",
       "[5 rows x 167 columns]"
      ]
     },
     "execution_count": 40,
     "metadata": {},
     "output_type": "execute_result"
    }
   ],
   "source": [
    "#verificando colunas\n",
    "df_train.head()"
   ]
  },
  {
   "cell_type": "code",
   "execution_count": 41,
   "metadata": {},
   "outputs": [
    {
     "data": {
      "text/plain": [
       "(13730, 167)"
      ]
     },
     "execution_count": 41,
     "metadata": {},
     "output_type": "execute_result"
    }
   ],
   "source": [
    "#formatação dos dados\n",
    "df_train.shape"
   ]
  },
  {
   "cell_type": "code",
   "execution_count": 42,
   "metadata": {},
   "outputs": [
    {
     "data": {
      "text/plain": [
       "{'Unnamed: 0': 0,\n",
       " 'NU_INSCRICAO': 0,\n",
       " 'NU_ANO': 0,\n",
       " 'CO_MUNICIPIO_RESIDENCIA': 0,\n",
       " 'NO_MUNICIPIO_RESIDENCIA': 0,\n",
       " 'CO_UF_RESIDENCIA': 0,\n",
       " 'SG_UF_RESIDENCIA': 0,\n",
       " 'NU_IDADE': 0,\n",
       " 'TP_SEXO': 0,\n",
       " 'TP_ESTADO_CIVIL': 528,\n",
       " 'TP_COR_RACA': 0,\n",
       " 'TP_NACIONALIDADE': 0,\n",
       " 'CO_MUNICIPIO_NASCIMENTO': 609,\n",
       " 'NO_MUNICIPIO_NASCIMENTO': 609,\n",
       " 'CO_UF_NASCIMENTO': 609,\n",
       " 'SG_UF_NASCIMENTO': 609,\n",
       " 'TP_ST_CONCLUSAO': 0,\n",
       " 'TP_ANO_CONCLUIU': 0,\n",
       " 'TP_ESCOLA': 0,\n",
       " 'TP_ENSINO': 9448,\n",
       " 'IN_TREINEIRO': 0,\n",
       " 'CO_ESCOLA': 9448,\n",
       " 'CO_MUNICIPIO_ESC': 9448,\n",
       " 'NO_MUNICIPIO_ESC': 9448,\n",
       " 'CO_UF_ESC': 9448,\n",
       " 'SG_UF_ESC': 9448,\n",
       " 'TP_DEPENDENCIA_ADM_ESC': 9448,\n",
       " 'TP_LOCALIZACAO_ESC': 9448,\n",
       " 'TP_SIT_FUNC_ESC': 9448,\n",
       " 'IN_BAIXA_VISAO': 0,\n",
       " 'IN_CEGUEIRA': 0,\n",
       " 'IN_SURDEZ': 0,\n",
       " 'IN_DEFICIENCIA_AUDITIVA': 0,\n",
       " 'IN_SURDO_CEGUEIRA': 0,\n",
       " 'IN_DEFICIENCIA_FISICA': 0,\n",
       " 'IN_DEFICIENCIA_MENTAL': 0,\n",
       " 'IN_DEFICIT_ATENCAO': 0,\n",
       " 'IN_DISLEXIA': 0,\n",
       " 'IN_DISCALCULIA': 0,\n",
       " 'IN_AUTISMO': 0,\n",
       " 'IN_VISAO_MONOCULAR': 0,\n",
       " 'IN_OUTRA_DEF': 0,\n",
       " 'IN_SABATISTA': 0,\n",
       " 'IN_GESTANTE': 0,\n",
       " 'IN_LACTANTE': 0,\n",
       " 'IN_IDOSO': 0,\n",
       " 'IN_ESTUDA_CLASSE_HOSPITALAR': 0,\n",
       " 'IN_SEM_RECURSO': 0,\n",
       " 'IN_BRAILLE': 0,\n",
       " 'IN_AMPLIADA_24': 0,\n",
       " 'IN_AMPLIADA_18': 0,\n",
       " 'IN_LEDOR': 0,\n",
       " 'IN_ACESSO': 0,\n",
       " 'IN_TRANSCRICAO': 0,\n",
       " 'IN_LIBRAS': 0,\n",
       " 'IN_LEITURA_LABIAL': 0,\n",
       " 'IN_MESA_CADEIRA_RODAS': 0,\n",
       " 'IN_MESA_CADEIRA_SEPARADA': 0,\n",
       " 'IN_APOIO_PERNA': 0,\n",
       " 'IN_GUIA_INTERPRETE': 0,\n",
       " 'IN_MACA': 0,\n",
       " 'IN_COMPUTADOR': 0,\n",
       " 'IN_CADEIRA_ESPECIAL': 0,\n",
       " 'IN_CADEIRA_CANHOTO': 0,\n",
       " 'IN_CADEIRA_ACOLCHOADA': 0,\n",
       " 'IN_PROVA_DEITADO': 0,\n",
       " 'IN_MOBILIARIO_OBESO': 0,\n",
       " 'IN_LAMINA_OVERLAY': 0,\n",
       " 'IN_PROTETOR_AURICULAR': 0,\n",
       " 'IN_MEDIDOR_GLICOSE': 0,\n",
       " 'IN_MAQUINA_BRAILE': 0,\n",
       " 'IN_SOROBAN': 0,\n",
       " 'IN_MARCA_PASSO': 0,\n",
       " 'IN_SONDA': 0,\n",
       " 'IN_MEDICAMENTOS': 0,\n",
       " 'IN_SALA_INDIVIDUAL': 0,\n",
       " 'IN_SALA_ESPECIAL': 0,\n",
       " 'IN_SALA_ACOMPANHANTE': 0,\n",
       " 'IN_MOBILIARIO_ESPECIFICO': 0,\n",
       " 'IN_MATERIAL_ESPECIFICO': 0,\n",
       " 'IN_NOME_SOCIAL': 0,\n",
       " 'IN_CERTIFICADO': 0,\n",
       " 'NO_ENTIDADE_CERTIFICACAO': 12092,\n",
       " 'CO_UF_ENTIDADE_CERTIFICACAO': 12092,\n",
       " 'SG_UF_ENTIDADE_CERTIFICACAO': 12092,\n",
       " 'CO_MUNICIPIO_PROVA': 0,\n",
       " 'NO_MUNICIPIO_PROVA': 0,\n",
       " 'CO_UF_PROVA': 0,\n",
       " 'SG_UF_PROVA': 0,\n",
       " 'TP_PRESENCA_CN': 0,\n",
       " 'TP_PRESENCA_CH': 0,\n",
       " 'TP_PRESENCA_LC': 0,\n",
       " 'TP_PRESENCA_MT': 0,\n",
       " 'CO_PROVA_CN': 0,\n",
       " 'CO_PROVA_CH': 0,\n",
       " 'CO_PROVA_LC': 0,\n",
       " 'CO_PROVA_MT': 0,\n",
       " 'NU_NOTA_CN': 3389,\n",
       " 'NU_NOTA_CH': 3389,\n",
       " 'NU_NOTA_LC': 3597,\n",
       " 'NU_NOTA_MT': 3597,\n",
       " 'TX_RESPOSTAS_CN': 3389,\n",
       " 'TX_RESPOSTAS_CH': 3389,\n",
       " 'TX_RESPOSTAS_LC': 3597,\n",
       " 'TX_RESPOSTAS_MT': 3597,\n",
       " 'TP_LINGUA': 0,\n",
       " 'TX_GABARITO_CN': 3389,\n",
       " 'TX_GABARITO_CH': 3389,\n",
       " 'TX_GABARITO_LC': 3597,\n",
       " 'TX_GABARITO_MT': 3597,\n",
       " 'TP_STATUS_REDACAO': 3597,\n",
       " 'NU_NOTA_COMP1': 3597,\n",
       " 'NU_NOTA_COMP2': 3597,\n",
       " 'NU_NOTA_COMP3': 3597,\n",
       " 'NU_NOTA_COMP4': 3597,\n",
       " 'NU_NOTA_COMP5': 3597,\n",
       " 'NU_NOTA_REDACAO': 3597,\n",
       " 'Q001': 0,\n",
       " 'Q002': 0,\n",
       " 'Q003': 0,\n",
       " 'Q004': 0,\n",
       " 'Q005': 0,\n",
       " 'Q006': 0,\n",
       " 'Q007': 0,\n",
       " 'Q008': 0,\n",
       " 'Q009': 0,\n",
       " 'Q010': 0,\n",
       " 'Q011': 0,\n",
       " 'Q012': 0,\n",
       " 'Q013': 0,\n",
       " 'Q014': 0,\n",
       " 'Q015': 0,\n",
       " 'Q016': 0,\n",
       " 'Q017': 0,\n",
       " 'Q018': 0,\n",
       " 'Q019': 0,\n",
       " 'Q020': 0,\n",
       " 'Q021': 0,\n",
       " 'Q022': 0,\n",
       " 'Q023': 0,\n",
       " 'Q024': 0,\n",
       " 'Q025': 0,\n",
       " 'Q026': 0,\n",
       " 'Q027': 7373,\n",
       " 'Q028': 7376,\n",
       " 'Q029': 7375,\n",
       " 'Q030': 7375,\n",
       " 'Q031': 7376,\n",
       " 'Q032': 7376,\n",
       " 'Q033': 7376,\n",
       " 'Q034': 0,\n",
       " 'Q035': 0,\n",
       " 'Q036': 0,\n",
       " 'Q037': 0,\n",
       " 'Q038': 0,\n",
       " 'Q039': 0,\n",
       " 'Q040': 0,\n",
       " 'Q041': 10792,\n",
       " 'Q042': 0,\n",
       " 'Q043': 0,\n",
       " 'Q044': 0,\n",
       " 'Q045': 0,\n",
       " 'Q046': 0,\n",
       " 'Q047': 0,\n",
       " 'Q048': 0,\n",
       " 'Q049': 0,\n",
       " 'Q050': 0}"
      ]
     },
     "execution_count": 42,
     "metadata": {},
     "output_type": "execute_result"
    }
   ],
   "source": [
    "#verificando registros nulos por coluna(sem omitir registros)\n",
    "dict(df_train.isnull().sum())"
   ]
  },
  {
   "cell_type": "code",
   "execution_count": 43,
   "metadata": {},
   "outputs": [
    {
     "data": {
      "text/plain": [
       "{'Unnamed: 0': 0.0,\n",
       " 'NU_INSCRICAO': 0.0,\n",
       " 'NU_ANO': 0.0,\n",
       " 'CO_MUNICIPIO_RESIDENCIA': 0.0,\n",
       " 'NO_MUNICIPIO_RESIDENCIA': 0.0,\n",
       " 'CO_UF_RESIDENCIA': 0.0,\n",
       " 'SG_UF_RESIDENCIA': 0.0,\n",
       " 'NU_IDADE': 0.0,\n",
       " 'TP_SEXO': 0.0,\n",
       " 'TP_ESTADO_CIVIL': 0.038455935906773486,\n",
       " 'TP_COR_RACA': 0.0,\n",
       " 'TP_NACIONALIDADE': 0.0,\n",
       " 'CO_MUNICIPIO_NASCIMENTO': 0.044355426074289876,\n",
       " 'NO_MUNICIPIO_NASCIMENTO': 0.044355426074289876,\n",
       " 'CO_UF_NASCIMENTO': 0.044355426074289876,\n",
       " 'SG_UF_NASCIMENTO': 0.044355426074289876,\n",
       " 'TP_ST_CONCLUSAO': 0.0,\n",
       " 'TP_ANO_CONCLUIU': 0.0,\n",
       " 'TP_ESCOLA': 0.0,\n",
       " 'TP_ENSINO': 0.6881281864530225,\n",
       " 'IN_TREINEIRO': 0.0,\n",
       " 'CO_ESCOLA': 0.6881281864530225,\n",
       " 'CO_MUNICIPIO_ESC': 0.6881281864530225,\n",
       " 'NO_MUNICIPIO_ESC': 0.6881281864530225,\n",
       " 'CO_UF_ESC': 0.6881281864530225,\n",
       " 'SG_UF_ESC': 0.6881281864530225,\n",
       " 'TP_DEPENDENCIA_ADM_ESC': 0.6881281864530225,\n",
       " 'TP_LOCALIZACAO_ESC': 0.6881281864530225,\n",
       " 'TP_SIT_FUNC_ESC': 0.6881281864530225,\n",
       " 'IN_BAIXA_VISAO': 0.0,\n",
       " 'IN_CEGUEIRA': 0.0,\n",
       " 'IN_SURDEZ': 0.0,\n",
       " 'IN_DEFICIENCIA_AUDITIVA': 0.0,\n",
       " 'IN_SURDO_CEGUEIRA': 0.0,\n",
       " 'IN_DEFICIENCIA_FISICA': 0.0,\n",
       " 'IN_DEFICIENCIA_MENTAL': 0.0,\n",
       " 'IN_DEFICIT_ATENCAO': 0.0,\n",
       " 'IN_DISLEXIA': 0.0,\n",
       " 'IN_DISCALCULIA': 0.0,\n",
       " 'IN_AUTISMO': 0.0,\n",
       " 'IN_VISAO_MONOCULAR': 0.0,\n",
       " 'IN_OUTRA_DEF': 0.0,\n",
       " 'IN_SABATISTA': 0.0,\n",
       " 'IN_GESTANTE': 0.0,\n",
       " 'IN_LACTANTE': 0.0,\n",
       " 'IN_IDOSO': 0.0,\n",
       " 'IN_ESTUDA_CLASSE_HOSPITALAR': 0.0,\n",
       " 'IN_SEM_RECURSO': 0.0,\n",
       " 'IN_BRAILLE': 0.0,\n",
       " 'IN_AMPLIADA_24': 0.0,\n",
       " 'IN_AMPLIADA_18': 0.0,\n",
       " 'IN_LEDOR': 0.0,\n",
       " 'IN_ACESSO': 0.0,\n",
       " 'IN_TRANSCRICAO': 0.0,\n",
       " 'IN_LIBRAS': 0.0,\n",
       " 'IN_LEITURA_LABIAL': 0.0,\n",
       " 'IN_MESA_CADEIRA_RODAS': 0.0,\n",
       " 'IN_MESA_CADEIRA_SEPARADA': 0.0,\n",
       " 'IN_APOIO_PERNA': 0.0,\n",
       " 'IN_GUIA_INTERPRETE': 0.0,\n",
       " 'IN_MACA': 0.0,\n",
       " 'IN_COMPUTADOR': 0.0,\n",
       " 'IN_CADEIRA_ESPECIAL': 0.0,\n",
       " 'IN_CADEIRA_CANHOTO': 0.0,\n",
       " 'IN_CADEIRA_ACOLCHOADA': 0.0,\n",
       " 'IN_PROVA_DEITADO': 0.0,\n",
       " 'IN_MOBILIARIO_OBESO': 0.0,\n",
       " 'IN_LAMINA_OVERLAY': 0.0,\n",
       " 'IN_PROTETOR_AURICULAR': 0.0,\n",
       " 'IN_MEDIDOR_GLICOSE': 0.0,\n",
       " 'IN_MAQUINA_BRAILE': 0.0,\n",
       " 'IN_SOROBAN': 0.0,\n",
       " 'IN_MARCA_PASSO': 0.0,\n",
       " 'IN_SONDA': 0.0,\n",
       " 'IN_MEDICAMENTOS': 0.0,\n",
       " 'IN_SALA_INDIVIDUAL': 0.0,\n",
       " 'IN_SALA_ESPECIAL': 0.0,\n",
       " 'IN_SALA_ACOMPANHANTE': 0.0,\n",
       " 'IN_MOBILIARIO_ESPECIFICO': 0.0,\n",
       " 'IN_MATERIAL_ESPECIFICO': 0.0,\n",
       " 'IN_NOME_SOCIAL': 0.0,\n",
       " 'IN_CERTIFICADO': 0.0,\n",
       " 'NO_ENTIDADE_CERTIFICACAO': 0.8806991988346686,\n",
       " 'CO_UF_ENTIDADE_CERTIFICACAO': 0.8806991988346686,\n",
       " 'SG_UF_ENTIDADE_CERTIFICACAO': 0.8806991988346686,\n",
       " 'CO_MUNICIPIO_PROVA': 0.0,\n",
       " 'NO_MUNICIPIO_PROVA': 0.0,\n",
       " 'CO_UF_PROVA': 0.0,\n",
       " 'SG_UF_PROVA': 0.0,\n",
       " 'TP_PRESENCA_CN': 0.0,\n",
       " 'TP_PRESENCA_CH': 0.0,\n",
       " 'TP_PRESENCA_LC': 0.0,\n",
       " 'TP_PRESENCA_MT': 0.0,\n",
       " 'CO_PROVA_CN': 0.0,\n",
       " 'CO_PROVA_CH': 0.0,\n",
       " 'CO_PROVA_LC': 0.0,\n",
       " 'CO_PROVA_MT': 0.0,\n",
       " 'NU_NOTA_CN': 0.24683175528040788,\n",
       " 'NU_NOTA_CH': 0.24683175528040788,\n",
       " 'NU_NOTA_LC': 0.2619810633648944,\n",
       " 'NU_NOTA_MT': 0.2619810633648944,\n",
       " 'TX_RESPOSTAS_CN': 0.24683175528040788,\n",
       " 'TX_RESPOSTAS_CH': 0.24683175528040788,\n",
       " 'TX_RESPOSTAS_LC': 0.2619810633648944,\n",
       " 'TX_RESPOSTAS_MT': 0.2619810633648944,\n",
       " 'TP_LINGUA': 0.0,\n",
       " 'TX_GABARITO_CN': 0.24683175528040788,\n",
       " 'TX_GABARITO_CH': 0.24683175528040788,\n",
       " 'TX_GABARITO_LC': 0.2619810633648944,\n",
       " 'TX_GABARITO_MT': 0.2619810633648944,\n",
       " 'TP_STATUS_REDACAO': 0.2619810633648944,\n",
       " 'NU_NOTA_COMP1': 0.2619810633648944,\n",
       " 'NU_NOTA_COMP2': 0.2619810633648944,\n",
       " 'NU_NOTA_COMP3': 0.2619810633648944,\n",
       " 'NU_NOTA_COMP4': 0.2619810633648944,\n",
       " 'NU_NOTA_COMP5': 0.2619810633648944,\n",
       " 'NU_NOTA_REDACAO': 0.2619810633648944,\n",
       " 'Q001': 0.0,\n",
       " 'Q002': 0.0,\n",
       " 'Q003': 0.0,\n",
       " 'Q004': 0.0,\n",
       " 'Q005': 0.0,\n",
       " 'Q006': 0.0,\n",
       " 'Q007': 0.0,\n",
       " 'Q008': 0.0,\n",
       " 'Q009': 0.0,\n",
       " 'Q010': 0.0,\n",
       " 'Q011': 0.0,\n",
       " 'Q012': 0.0,\n",
       " 'Q013': 0.0,\n",
       " 'Q014': 0.0,\n",
       " 'Q015': 0.0,\n",
       " 'Q016': 0.0,\n",
       " 'Q017': 0.0,\n",
       " 'Q018': 0.0,\n",
       " 'Q019': 0.0,\n",
       " 'Q020': 0.0,\n",
       " 'Q021': 0.0,\n",
       " 'Q022': 0.0,\n",
       " 'Q023': 0.0,\n",
       " 'Q024': 0.0,\n",
       " 'Q025': 0.0,\n",
       " 'Q026': 0.0,\n",
       " 'Q027': 0.5369992716678805,\n",
       " 'Q028': 0.5372177713037145,\n",
       " 'Q029': 0.5371449380917699,\n",
       " 'Q030': 0.5371449380917699,\n",
       " 'Q031': 0.5372177713037145,\n",
       " 'Q032': 0.5372177713037145,\n",
       " 'Q033': 0.5372177713037145,\n",
       " 'Q034': 0.0,\n",
       " 'Q035': 0.0,\n",
       " 'Q036': 0.0,\n",
       " 'Q037': 0.0,\n",
       " 'Q038': 0.0,\n",
       " 'Q039': 0.0,\n",
       " 'Q040': 0.0,\n",
       " 'Q041': 0.7860160233066278,\n",
       " 'Q042': 0.0,\n",
       " 'Q043': 0.0,\n",
       " 'Q044': 0.0,\n",
       " 'Q045': 0.0,\n",
       " 'Q046': 0.0,\n",
       " 'Q047': 0.0,\n",
       " 'Q048': 0.0,\n",
       " 'Q049': 0.0,\n",
       " 'Q050': 0.0}"
      ]
     },
     "execution_count": 43,
     "metadata": {},
     "output_type": "execute_result"
    }
   ],
   "source": [
    "#calculando percentual de registros nulos por coluna(sem omitir registros)\n",
    "dict(df_train.isnull().sum() / df_train.shape[0])"
   ]
  },
  {
   "cell_type": "markdown",
   "metadata": {},
   "source": [
    "`A informação do percentual de dados faltantes pode indicar a possibilidade do tratamento de exclusão dos dados faltantes, mas antes serão selecionadas algumas variáveis para trabalhar o modelo.`"
   ]
  },
  {
   "cell_type": "markdown",
   "metadata": {},
   "source": [
    "## Verificando correlações das features"
   ]
  },
  {
   "cell_type": "markdown",
   "metadata": {},
   "source": [
    "`Para selecionar as features necessárias ao modelo será utilizado o cálculo das correlações, mantendo como parâmetro a correlação com a coluna NU_NOTA_MT.`"
   ]
  },
  {
   "cell_type": "code",
   "execution_count": 44,
   "metadata": {},
   "outputs": [],
   "source": [
    "#obtendo correlações das variávies\n",
    "correlations = df_train.corr()"
   ]
  },
  {
   "cell_type": "code",
   "execution_count": 106,
   "metadata": {},
   "outputs": [
    {
     "data": {
      "text/plain": [
       "NU_NOTA_CN    0.584941\n",
       "NU_NOTA_CH    0.529594\n",
       "Name: NU_NOTA_MT, dtype: float64"
      ]
     },
     "execution_count": 106,
     "metadata": {},
     "output_type": "execute_result"
    }
   ],
   "source": [
    "#separando features com 50% ou mais de correlação(positiva ou negativa) a NU_NOTA_MT\n",
    "features_filter = correlations[(correlations['NU_NOTA_MT'] <= -0.5) | (correlations['NU_NOTA_MT'] >= 0.5) & (correlations['NU_NOTA_MT'] < 1.0)]['NU_NOTA_MT']\n",
    "features_filter"
   ]
  },
  {
   "cell_type": "code",
   "execution_count": 46,
   "metadata": {},
   "outputs": [
    {
     "data": {
      "text/plain": [
       "NU_NOTA_CN    0.584941\n",
       "NU_NOTA_CH    0.529594\n",
       "NU_NOTA_LC    0.494695\n",
       "Name: NU_NOTA_MT, dtype: float64"
      ]
     },
     "execution_count": 46,
     "metadata": {},
     "output_type": "execute_result"
    }
   ],
   "source": [
    "#separando features com 40% ou mais de correlação(positiva ou negativa) a NU_NOTA_MT\n",
    "features_filter = correlations[(correlations['NU_NOTA_MT'] <= -0.4) | (correlations['NU_NOTA_MT'] >= 0.4) & (correlations['NU_NOTA_MT'] < 1.0)]['NU_NOTA_MT']\n",
    "features_filter"
   ]
  },
  {
   "cell_type": "code",
   "execution_count": 47,
   "metadata": {},
   "outputs": [
    {
     "data": {
      "text/plain": [
       "TP_DEPENDENCIA_ADM_ESC    0.373233\n",
       "NU_NOTA_CN                0.584941\n",
       "NU_NOTA_CH                0.529594\n",
       "NU_NOTA_LC                0.494695\n",
       "NU_NOTA_COMP2             0.335638\n",
       "NU_NOTA_COMP3             0.350307\n",
       "NU_NOTA_COMP4             0.342282\n",
       "NU_NOTA_COMP5             0.343337\n",
       "NU_NOTA_REDACAO           0.379376\n",
       "Name: NU_NOTA_MT, dtype: float64"
      ]
     },
     "execution_count": 47,
     "metadata": {},
     "output_type": "execute_result"
    }
   ],
   "source": [
    "#separando features com 30% ou mais de correlação(positiva ou negativa) a NU_NOTA_MT\n",
    "features_filter = correlations[(correlations['NU_NOTA_MT'] <= -0.3) | (correlations['NU_NOTA_MT'] >= 0.3) & (correlations['NU_NOTA_MT'] < 1.0)]['NU_NOTA_MT']\n",
    "features_filter"
   ]
  },
  {
   "cell_type": "code",
   "execution_count": 50,
   "metadata": {},
   "outputs": [
    {
     "data": {
      "text/plain": [
       "<AxesSubplot:>"
      ]
     },
     "execution_count": 50,
     "metadata": {},
     "output_type": "execute_result"
    },
    {
     "data": {
      "image/png": "[encoded data removed]",
      "text/plain": [
       "<Figure size 792x576 with 2 Axes>"
      ]
     },
     "metadata": {
      "needs_background": "light"
     },
     "output_type": "display_data"
    }
   ],
   "source": [
    "#Plotando gráfico de correlações\n",
    "figure = plt.subplots(figsize=(11, 8))\n",
    "sns.heatmap(df_train[features_filter.index.to_list()].corr(), annot=True, annot_kws={\"size\": 10}, cmap=\"YlGnBu\")"
   ]
  },
  {
   "cell_type": "markdown",
   "metadata": {},
   "source": [
    "`Avaliando os percentuas de correlação e a quantidade de features selecionadas será utilizado o valor de 30% para obter uma quantidade significativa de features. O valor de 30% seria baixo para uma boa correlação, mas neste dataset especifico pode trazer bons resultados.`"
   ]
  },
  {
   "cell_type": "code",
   "execution_count": 59,
   "metadata": {},
   "outputs": [
    {
     "data": {
      "text/plain": [
       "['TP_DEPENDENCIA_ADM_ESC',\n",
       " 'NU_NOTA_CN',\n",
       " 'NU_NOTA_CH',\n",
       " 'NU_NOTA_LC',\n",
       " 'NU_NOTA_COMP2',\n",
       " 'NU_NOTA_COMP3',\n",
       " 'NU_NOTA_COMP4',\n",
       " 'NU_NOTA_COMP5',\n",
       " 'NU_NOTA_REDACAO']"
      ]
     },
     "execution_count": 59,
     "metadata": {},
     "output_type": "execute_result"
    }
   ],
   "source": [
    "#lista de features selecionadas\n",
    "features = features_filter.index.to_list()\n",
    "features"
   ]
  },
  {
   "cell_type": "code",
   "execution_count": 60,
   "metadata": {},
   "outputs": [
    {
     "data": {
      "text/plain": [
       "['TP_DEPENDENCIA_ADM_ESC',\n",
       " 'NU_NOTA_CN',\n",
       " 'NU_NOTA_CH',\n",
       " 'NU_NOTA_LC',\n",
       " 'NU_NOTA_COMP2',\n",
       " 'NU_NOTA_COMP3',\n",
       " 'NU_NOTA_COMP4',\n",
       " 'NU_NOTA_COMP5',\n",
       " 'NU_NOTA_REDACAO',\n",
       " 'NU_NOTA_MT']"
      ]
     },
     "execution_count": 60,
     "metadata": {},
     "output_type": "execute_result"
    }
   ],
   "source": [
    "#adicionando a feature NU_NOTA_MT\n",
    "features.append('NU_NOTA_MT')\n",
    "features"
   ]
  },
  {
   "cell_type": "code",
   "execution_count": 61,
   "metadata": {},
   "outputs": [
    {
     "data": {
      "text/plain": [
       "(TP_DEPENDENCIA_ADM_ESC    9448\n",
       " NU_NOTA_CN                3389\n",
       " NU_NOTA_CH                3389\n",
       " NU_NOTA_LC                3597\n",
       " NU_NOTA_COMP2             3597\n",
       " NU_NOTA_COMP3             3597\n",
       " NU_NOTA_COMP4             3597\n",
       " NU_NOTA_COMP5             3597\n",
       " NU_NOTA_REDACAO           3597\n",
       " NU_NOTA_MT                3597\n",
       " dtype: int64,\n",
       " TP_DEPENDENCIA_ADM_ESC    0.688128\n",
       " NU_NOTA_CN                0.246832\n",
       " NU_NOTA_CH                0.246832\n",
       " NU_NOTA_LC                0.261981\n",
       " NU_NOTA_COMP2             0.261981\n",
       " NU_NOTA_COMP3             0.261981\n",
       " NU_NOTA_COMP4             0.261981\n",
       " NU_NOTA_COMP5             0.261981\n",
       " NU_NOTA_REDACAO           0.261981\n",
       " NU_NOTA_MT                0.261981\n",
       " dtype: float64)"
      ]
     },
     "execution_count": 61,
     "metadata": {},
     "output_type": "execute_result"
    }
   ],
   "source": [
    "#verificando valores vazios nas features\n",
    "df_train[features].isnull().sum(), df_train[features].isnull().sum() / df_train[features].shape[0]"
   ]
  },
  {
   "cell_type": "markdown",
   "metadata": {},
   "source": [
    "`Ao avaliar que os dados faltantes tem percentual maior que 20% nas features selecionadas é descartada a possibilidade de exclusão dos registros, pois isso poderá afetar o treinamento do modelo por ter uma quantidade reduzida de dados. A estratégia adotada será o preenchimento dos valores faltantes.`"
   ]
  },
  {
   "cell_type": "markdown",
   "metadata": {},
   "source": [
    "## Preparando os dados"
   ]
  },
  {
   "cell_type": "markdown",
   "metadata": {},
   "source": [
    "`Como a presente avaliação é sobre os dados do Enem e quase todas as features são notas das disciplinas a escolha inicial é substituir as notas faltantes por zero. Uma observação seria que a variável TP_DEPENDENCIA_ADM_ESC diz respeito a dependência administrativa do estabelecimento escolar do canditato(Federal, Estadual, Municipal ou Privada), ou seja, é uma variável categorica, neste caso sibstituí-la por zero indica categoria inexistente.`"
   ]
  },
  {
   "cell_type": "code",
   "execution_count": 62,
   "metadata": {},
   "outputs": [],
   "source": [
    "#copiando o Dataframe para manter o original sem alteração\n",
    "df_train_copy = df_train.copy()\n",
    "df_test_copy = df_test.copy()"
   ]
  },
  {
   "cell_type": "code",
   "execution_count": 63,
   "metadata": {},
   "outputs": [
    {
     "data": {
      "text/plain": [
       "(TP_DEPENDENCIA_ADM_ESC    0\n",
       " NU_NOTA_CN                0\n",
       " NU_NOTA_CH                0\n",
       " NU_NOTA_LC                0\n",
       " NU_NOTA_COMP2             0\n",
       " NU_NOTA_COMP3             0\n",
       " NU_NOTA_COMP4             0\n",
       " NU_NOTA_COMP5             0\n",
       " NU_NOTA_REDACAO           0\n",
       " NU_NOTA_MT                0\n",
       " dtype: int64,\n",
       " TP_DEPENDENCIA_ADM_ESC    0.0\n",
       " NU_NOTA_CN                0.0\n",
       " NU_NOTA_CH                0.0\n",
       " NU_NOTA_LC                0.0\n",
       " NU_NOTA_COMP2             0.0\n",
       " NU_NOTA_COMP3             0.0\n",
       " NU_NOTA_COMP4             0.0\n",
       " NU_NOTA_COMP5             0.0\n",
       " NU_NOTA_REDACAO           0.0\n",
       " NU_NOTA_MT                0.0\n",
       " dtype: float64)"
      ]
     },
     "execution_count": 63,
     "metadata": {},
     "output_type": "execute_result"
    }
   ],
   "source": [
    "#preenchendo valores faltantes com zero\n",
    "df_train_copy.fillna(0, inplace=True)\n",
    "df_test_copy.fillna(0, inplace=True)\n",
    "df_train_copy[features].isnull().sum(), df_train_copy[features].isnull().sum() / df_train_copy[features].shape[0]"
   ]
  },
  {
   "cell_type": "markdown",
   "metadata": {},
   "source": [
    "`Sem valores faltantes nas variáveis é possível avaliar os modelos com base nas features escolhidas.`"
   ]
  },
  {
   "cell_type": "markdown",
   "metadata": {},
   "source": [
    "## Avaliação dos modelos para previsão das notas"
   ]
  },
  {
   "cell_type": "markdown",
   "metadata": {},
   "source": [
    "`Nos problemas de previsão de valores é bastante comum a utilização de algoritmos de Regressão, para esta avaliação os seguintes algoritmos foram utilizados:` </br>\n",
    "- `LinearRegression`<br>\n",
    "- `KNeighborsRegressor`</br>\n",
    "- `DecisionTreeRegressor`</br>\n",
    "- `GradientBoostRegressor`</br>\n",
    "- `RandomForestRegressor` "
   ]
  },
  {
   "cell_type": "code",
   "execution_count": 86,
   "metadata": {},
   "outputs": [],
   "source": [
    "#Gerando DataFrame de Resposta\n",
    "prediction = pd.DataFrame()\n",
    "prediction['NU_INSCRICAO'] = df_test_copy['NU_INSCRICAO']"
   ]
  },
  {
   "cell_type": "code",
   "execution_count": 109,
   "metadata": {},
   "outputs": [],
   "source": [
    "#método de avaliação dos modelos\n",
    "def models_performance(pipelines, X_train, y_train):\n",
    "    \"\"\" \n",
    "    Avaliar a performance dos modelos aplicados aos dados de treino.\\n\n",
    "    \n",
    "    Parameters\\n\n",
    "    -----------\\n\n",
    "    pipelines: Lista de pipelines aplicados aos dados de treino.\\n\n",
    "    X_train: Conjunto de dados de treino.\\n\n",
    "    y_train: Variável target para treinamento.\\n\n",
    "    \n",
    "    Return\\n\n",
    "    -----------\\n\n",
    "    Avaliação dos modelos utilizados.\\n\n",
    "    \n",
    "    \"\"\"\n",
    "    for name, model in pipelines:\n",
    "        kfold = KFold(n_splits=5, random_state=21, shuffle=True)\n",
    "        cv_results = cross_val_score(model, X_train, y_train, cv=kfold, scoring='neg_mean_squared_error')\n",
    "        print(\"%s: Mean = %f , Std = (%f)\" % (name, cv_results.mean(), cv_results.std()))\n",
    "        print(cv_results)\n",
    "        print('')"
   ]
  },
  {
   "cell_type": "code",
   "execution_count": 70,
   "metadata": {},
   "outputs": [],
   "source": [
    "#Criando os pipelines para aplicação dos dados de treino\n",
    "pipelines = []\n",
    "pipelines.append(('LR', Pipeline([('Scaler', MinMaxScaler()),('LR',LinearRegression())])))\n",
    "pipelines.append(('KNN', Pipeline([('Scaler', MinMaxScaler()),('KNN', KNeighborsRegressor())])))\n",
    "pipelines.append(('DTR', Pipeline([('Scaler', MinMaxScaler()),('DTR', DecisionTreeRegressor())])))\n",
    "pipelines.append(('GBM', Pipeline([('Scaler', MinMaxScaler()),('GBM', GradientBoostingRegressor())])))\n",
    "pipelines.append(('RFR', Pipeline([('Scaler', MinMaxScaler()),('RFR', RandomForestRegressor())])))"
   ]
  },
  {
   "cell_type": "code",
   "execution_count": 73,
   "metadata": {},
   "outputs": [],
   "source": [
    "#removendo a variável target da lista de features escolhidas\n",
    "features.remove('NU_NOTA_MT')"
   ]
  },
  {
   "cell_type": "code",
   "execution_count": 78,
   "metadata": {},
   "outputs": [
    {
     "name": "stdout",
     "output_type": "stream",
     "text": [
      "LR: Média -5101.872087 Desvio (135.658620)\n",
      "[-5349.63220126 -5111.71702934 -4941.14016774 -5055.35332122\n",
      " -5051.51771483]\n",
      "\n",
      "KNN: Média -5041.330622 Desvio (39.766364)\n",
      "[-5025.73622083 -5033.73415688 -5028.33953809 -5001.18676402\n",
      " -5117.65643132]\n",
      "\n",
      "DTR: Média -8251.825476 Desvio (237.692425)\n",
      "[-8260.83090677 -8351.17054625 -8443.41289512 -7792.94650765\n",
      " -8410.76652221]\n",
      "\n",
      "GBM: Média -4051.871060 Desvio (47.703685)\n",
      "[-4127.22757322 -4066.66225388 -4048.30302646 -3979.2548424\n",
      " -4037.90760224]\n",
      "\n",
      "RFR: Média -4325.413011 Desvio (81.917769)\n",
      "[-4432.03881415 -4341.50702487 -4271.23950701 -4199.92456611\n",
      " -4382.3551442 ]\n",
      "\n"
     ]
    }
   ],
   "source": [
    "#Avaliando os modelos escolhidos\n",
    "models_performance(pipelines, df_train_copy[features], df_train_copy['NU_NOTA_MT'])"
   ]
  },
  {
   "cell_type": "markdown",
   "metadata": {},
   "source": [
    "`Quando se fala em modelos de regressão uma métrica de avaliação muito comum é o erro médio quadrático, quanto mais ele se aproxima de zero melhor é a acertividade do modelo. \n",
    "No método models_peformance foram avaliados os modelos contidos no pipeline, aplicando o MinMaxScaler como método de transformação dos dados para garantir uma alteração mínima na distribuição original. Avaliando a média dos scores, retornados pelo método cross_val_score, o desvio padrão e os próprios scores gerados em 5 dobras, pode-se perceber que os modelos que tiveram menor erro médio foram o GradientBoostingRegressor e o RandomForestRegressor.`"
   ]
  },
  {
   "cell_type": "markdown",
   "metadata": {},
   "source": [
    "## Gerando os modelos"
   ]
  },
  {
   "cell_type": "markdown",
   "metadata": {},
   "source": [
    "#### `GradientBoostingRegressor`"
   ]
  },
  {
   "cell_type": "code",
   "execution_count": 90,
   "metadata": {},
   "outputs": [],
   "source": [
    "#Otimizando hyper parâmetros para a melhor configuração do modelo \n",
    "gradient = RandomizedSearchCV(estimator = pipelines[3][1], param_distributions = {}, cv = 5, return_train_score=True, verbose=0)"
   ]
  },
  {
   "cell_type": "code",
   "execution_count": 91,
   "metadata": {},
   "outputs": [
    {
     "name": "stderr",
     "output_type": "stream",
     "text": [
      "/home/osboxes/codenation/enem-2/venv/lib/python3.7/site-packages/sklearn/model_selection/_search.py:282: UserWarning: The total space of parameters 1 is smaller than n_iter=10. Running 1 iterations. For exhaustive searches, use GridSearchCV.\n",
      "  % (grid_size, self.n_iter, grid_size), UserWarning)\n"
     ]
    },
    {
     "data": {
      "text/plain": [
       "RandomizedSearchCV(cv=5,\n",
       "                   estimator=Pipeline(steps=[('Scaler', MinMaxScaler()),\n",
       "                                             ('GBM',\n",
       "                                              GradientBoostingRegressor())]),\n",
       "                   param_distributions={}, return_train_score=True)"
      ]
     },
     "execution_count": 91,
     "metadata": {},
     "output_type": "execute_result"
    }
   ],
   "source": [
    "#Treinando o modelo\n",
    "gradient.fit(df_train_copy[features], df_train_copy['NU_NOTA_MT'])"
   ]
  },
  {
   "cell_type": "code",
   "execution_count": 92,
   "metadata": {},
   "outputs": [
    {
     "data": {
      "text/plain": [
       "array([4.33917605e+02, 4.54041216e+02, 5.84561728e+02, ...,\n",
       "       6.64767053e+02, 4.50318972e+02, 5.16341356e-01])"
      ]
     },
     "execution_count": 92,
     "metadata": {},
     "output_type": "execute_result"
    }
   ],
   "source": [
    "#Aplicando o conjunto de teste\n",
    "gradient_predict = gradient.predict(df_test_copy[features])\n",
    "gradient_predict"
   ]
  },
  {
   "cell_type": "code",
   "execution_count": 94,
   "metadata": {},
   "outputs": [],
   "source": [
    "#arredondando valores preditos e salvando no DataFrame de resposta\n",
    "prediction['NU_NOTA_MT'] = np.around(gradient_predict,2)"
   ]
  },
  {
   "cell_type": "code",
   "execution_count": 95,
   "metadata": {},
   "outputs": [],
   "source": [
    "#gerando arquivo de resposta\n",
    "prediction.to_csv('answer.csv', index=False, header=True)"
   ]
  },
  {
   "cell_type": "markdown",
   "metadata": {},
   "source": [
    "#### `RandomForestRegressor`"
   ]
  },
  {
   "cell_type": "code",
   "execution_count": 98,
   "metadata": {},
   "outputs": [],
   "source": [
    "forest = RandomizedSearchCV(estimator = pipelines[4][1], param_distributions = {}, cv = 5, return_train_score=True, verbose=0)"
   ]
  },
  {
   "cell_type": "code",
   "execution_count": 99,
   "metadata": {},
   "outputs": [
    {
     "name": "stderr",
     "output_type": "stream",
     "text": [
      "/home/osboxes/codenation/enem-2/venv/lib/python3.7/site-packages/sklearn/model_selection/_search.py:282: UserWarning: The total space of parameters 1 is smaller than n_iter=10. Running 1 iterations. For exhaustive searches, use GridSearchCV.\n",
      "  % (grid_size, self.n_iter, grid_size), UserWarning)\n"
     ]
    },
    {
     "data": {
      "text/plain": [
       "RandomizedSearchCV(cv=5,\n",
       "                   estimator=Pipeline(steps=[('Scaler', MinMaxScaler()),\n",
       "                                             ('RFR', RandomForestRegressor())]),\n",
       "                   param_distributions={}, return_train_score=True)"
      ]
     },
     "execution_count": 99,
     "metadata": {},
     "output_type": "execute_result"
    }
   ],
   "source": [
    "#Treinando o modelo\n",
    "forest.fit(df_train_copy[features], df_train_copy['NU_NOTA_MT'])"
   ]
  },
  {
   "cell_type": "code",
   "execution_count": 101,
   "metadata": {},
   "outputs": [
    {
     "data": {
      "text/plain": [
       "array([429.224, 432.394, 573.89 , ..., 671.851, 486.532,   0.   ])"
      ]
     },
     "execution_count": 101,
     "metadata": {},
     "output_type": "execute_result"
    }
   ],
   "source": [
    "#Predizendo os valores\n",
    "forest_predict = forest.predict(df_test_copy[features])\n",
    "forest_predict"
   ]
  },
  {
   "cell_type": "code",
   "execution_count": 102,
   "metadata": {},
   "outputs": [],
   "source": [
    "#Alterando os dados de resposta\n",
    "prediction['NU_NOTA_MT'] = np.around(forest_predict,2)"
   ]
  },
  {
   "cell_type": "code",
   "execution_count": 103,
   "metadata": {},
   "outputs": [],
   "source": [
    "#Gerando o arquivo da predição\n",
    "prediction.to_csv('answer2.csv', index=False, header=True)"
   ]
  },
  {
   "cell_type": "markdown",
   "metadata": {},
   "source": [
    "## Conclusão"
   ]
  },
  {
   "cell_type": "markdown",
   "metadata": {},
   "source": [
    "`O objetivo deste desafio é a previsão das notas das disciplinas de matemática do enem 2016, após as técnicas aplicadas dois algoritmos de regressão se mostraram eficientes para resolver o problema, o GradientBoostRegressor e o RandomForestRegressor, dentre os modelos gerados o que teve um percentual de acertividade maior no problema testado foi o modelo baseado no algoritmo GradientBoostRegressor e por isso este foi escolhido para gerar o arquivo de resposta.`"
   ]
  }
 ],
 "metadata": {
  "kernelspec": {
   "display_name": "Python 3",
   "language": "python",
   "name": "python3"
  },
  "language_info": {
   "codemirror_mode": {
    "name": "ipython",
    "version": 3
   },
   "file_extension": ".py",
   "mimetype": "text/x-python",
   "name": "python",
   "nbconvert_exporter": "python",
   "pygments_lexer": "ipython3",
   "version": "3.7.8"
  }
 },
 "nbformat": 4,
 "nbformat_minor": 4
}
